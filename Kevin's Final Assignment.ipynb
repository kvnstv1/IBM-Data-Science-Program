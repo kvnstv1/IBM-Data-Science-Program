{
  "metadata": {
    "kernelspec": {
      "name": "python",
      "display_name": "Pyolite",
      "language": "python"
    },
    "language_info": {
      "codemirror_mode": {
        "name": "python",
        "version": 3
      },
      "file_extension": ".py",
      "mimetype": "text/x-python",
      "name": "python",
      "nbconvert_exporter": "python",
      "pygments_lexer": "ipython3",
      "version": "3.8"
    }
  },
  "nbformat_minor": 4,
  "nbformat": 4,
  "cells": [
    {
      "cell_type": "markdown",
      "source": "<center>\n    <img src=\"https://s3-api.us-geo.objectstorage.softlayer.net/cf-courses-data/CognitiveClass/Logos/organization_logo/organization_logo.png\" width=\"300\" alt=\"cognitiveclass.ai logo\"  />\n</center>\n",
      "metadata": {}
    },
    {
      "cell_type": "markdown",
      "source": "#### Add your code below following the instructions given in the course\n",
      "metadata": {}
    },
    {
      "cell_type": "markdown",
      "source": "# My Jupyter Notebook on IBM Watson Studio",
      "metadata": {}
    },
    {
      "cell_type": "markdown",
      "source": "**Kevin Steve Sathyanath**  \nStudent, desirous of being a data analyst",
      "metadata": {}
    },
    {
      "cell_type": "markdown",
      "source": "*I am interested in data science because it brings together mathematics and visual storytelling, which I find interesting. It is also a very hands-on discipline and students can start learning by jumping in at the deep end. I hope this leads me to a career with a good salary.*",
      "metadata": {}
    },
    {
      "cell_type": "markdown",
      "source": "### My code will simply add 1+1. I am keeping it simple.",
      "metadata": {}
    },
    {
      "cell_type": "code",
      "source": "1 + 1",
      "metadata": {
        "trusted": true
      },
      "execution_count": 1,
      "outputs": [
        {
          "execution_count": 1,
          "output_type": "execute_result",
          "data": {
            "text/plain": "2"
          },
          "metadata": {}
        }
      ]
    },
    {
      "cell_type": "markdown",
      "source": "I choose to include the following:\n\n1. Numbered list\n2. Bulleted list\n3. Hyperlinks\n\nSo I chose these three for the following reasons:\n\n+ It is simple\n+ It is quick\n+ I am new to this\n+ Also I can share some of my favourite Youtube Links.\n\nHere are my shared links. They are SFW.\n\n[Shaun on Harry Potter](https://www.youtube.com/watch?v=-1iaJWSwUZs)  \n[hbomberguy on Sherlock Holmes](https://www.youtube.com/watch?v=LkoGBOs5ecM \"The BBC version of Sherlock anyway\")  \n[Lindsay Ellis on Game of Thrones](https://www.youtube.com/watch?v=BGr0NRx3TKU \"Dragon lady bad\")  \n \n>One last feature (block quote) added extra to cover all my bases.\n\nHope you enjoy those videos!",
      "metadata": {}
    },
    {
      "cell_type": "code",
      "source": "",
      "metadata": {},
      "execution_count": null,
      "outputs": []
    }
  ]
}